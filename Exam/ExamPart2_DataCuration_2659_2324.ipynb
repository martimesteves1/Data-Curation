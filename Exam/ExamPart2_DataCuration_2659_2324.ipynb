{
 "cells": [
  {
   "cell_type": "markdown",
   "metadata": {
    "id": "v9cJUSFxv3Ax"
   },
   "source": [
    "**T1-2659 Data Curation for Business Analytics**\n",
    "\n",
    "**October 19th, 2023**\n",
    "\n",
    "**Final Exam: Part II Pandas**\n",
    "\n",
    "“What movie should I watch this evening?” This perhaps is a question you would ask yourself very often. As for me—yes, and more than once. As such, from Netflix to Hulu, the need to build robust movie recommendation systems is extremely important given the huge demand for personalized content of modern consumers.\n",
    "\n",
    "We are going to examine a dataset which provides non-commercial, personalized movie recommendations. This dataset describes 5-star rating from MovieLens. It contains ratings across movies created by users.\n",
    "\n",
    "\n",
    "The data are contained in the files *movies_dc.csv*, and *ratings_dc.csv*. More details about the contents and use of all these files follows.\n",
    "\n",
    "\n",
    "> Ratings Data File Structure (*ratings_dc.csv*) All ratings are contained in the file *ratings_dc.csv*. Each line of this file after the header row represents one rating of one movie by one user, and has the following format: userId, movieId, rating. The lines within this file are ordered first by userId, then, within user, by movieId. Ratings are made on a 5-star scale, with half-star increments (0.5 stars - 5.0 stars).\n",
    "\n",
    ">  \n",
    "Movies Data File Structure (*movies_dc.csv*) Movie information is contained in the file movies.csv. Each line of this file after the header row represents one movie, and has the following format: movieId, title, genres, movie_description\n",
    "\n",
    "\n"
   ]
  },
  {
   "cell_type": "markdown",
   "metadata": {
    "id": "eGCw8MmQxUhy"
   },
   "source": [
    "**Question 1 (10 points)**\n",
    "\n",
    "Load the *movies_dc.csv* data as a pandas dataframe. Fix the following problems:\n",
    "\n",
    "\n",
    "\n",
    "*   The “movieId” column is mistakenly encoded as \"movieId_\". Please revise the column name as movieId.\n",
    "*   The “movie_description” column has irrelevant values. Please delete this column.\n",
    "\n",
    "*   The “title” column contains each movie’s release year. Please extract the year information from the “title” column and use it to generate a new column “year”. (You can still keep the release year in the original \"title\" column.)\n",
    "\n",
    "\n",
    "*   Note that the data type of the new column “year” should be converted to **int**.\n",
    "\n",
    "**You should work on this updated dataframe for this exam.**\n"
   ]
  },
  {
   "cell_type": "code",
   "execution_count": 1,
   "metadata": {},
   "outputs": [],
   "source": [
    "import pandas as pd"
   ]
  },
  {
   "cell_type": "code",
   "execution_count": 43,
   "metadata": {
    "id": "LttYNpB9yPvL"
   },
   "outputs": [
    {
     "data": {
      "text/html": [
       "<div>\n",
       "<style scoped>\n",
       "    .dataframe tbody tr th:only-of-type {\n",
       "        vertical-align: middle;\n",
       "    }\n",
       "\n",
       "    .dataframe tbody tr th {\n",
       "        vertical-align: top;\n",
       "    }\n",
       "\n",
       "    .dataframe thead th {\n",
       "        text-align: right;\n",
       "    }\n",
       "</style>\n",
       "<table border=\"1\" class=\"dataframe\">\n",
       "  <thead>\n",
       "    <tr style=\"text-align: right;\">\n",
       "      <th></th>\n",
       "      <th>movieId</th>\n",
       "      <th>title</th>\n",
       "      <th>genres</th>\n",
       "      <th>year</th>\n",
       "    </tr>\n",
       "  </thead>\n",
       "  <tbody>\n",
       "    <tr>\n",
       "      <th>0</th>\n",
       "      <td>1</td>\n",
       "      <td>Toy Story (1995)</td>\n",
       "      <td>Adventure|Animation|Children|Comedy|Fantasy</td>\n",
       "      <td>1995</td>\n",
       "    </tr>\n",
       "    <tr>\n",
       "      <th>1</th>\n",
       "      <td>2</td>\n",
       "      <td>Jumanji (1995)</td>\n",
       "      <td>Adventure|Children|Fantasy</td>\n",
       "      <td>1995</td>\n",
       "    </tr>\n",
       "    <tr>\n",
       "      <th>2</th>\n",
       "      <td>3</td>\n",
       "      <td>Grumpier Old Men (1995)</td>\n",
       "      <td>Comedy|Romance</td>\n",
       "      <td>1995</td>\n",
       "    </tr>\n",
       "    <tr>\n",
       "      <th>3</th>\n",
       "      <td>4</td>\n",
       "      <td>Waiting to Exhale (1995)</td>\n",
       "      <td>Comedy|Drama|Romance</td>\n",
       "      <td>1995</td>\n",
       "    </tr>\n",
       "    <tr>\n",
       "      <th>4</th>\n",
       "      <td>5</td>\n",
       "      <td>Father of the Bride Part II (1995)</td>\n",
       "      <td>Comedy</td>\n",
       "      <td>1995</td>\n",
       "    </tr>\n",
       "    <tr>\n",
       "      <th>...</th>\n",
       "      <td>...</td>\n",
       "      <td>...</td>\n",
       "      <td>...</td>\n",
       "      <td>...</td>\n",
       "    </tr>\n",
       "    <tr>\n",
       "      <th>8155</th>\n",
       "      <td>193581</td>\n",
       "      <td>Black Butler: Book of the Atlantic (2017)</td>\n",
       "      <td>Action|Animation|Comedy|Fantasy</td>\n",
       "      <td>2017</td>\n",
       "    </tr>\n",
       "    <tr>\n",
       "      <th>8156</th>\n",
       "      <td>193583</td>\n",
       "      <td>No Game No Life: Zero (2017)</td>\n",
       "      <td>Animation|Comedy|Fantasy</td>\n",
       "      <td>2017</td>\n",
       "    </tr>\n",
       "    <tr>\n",
       "      <th>8157</th>\n",
       "      <td>193585</td>\n",
       "      <td>Flint (2017)</td>\n",
       "      <td>Drama</td>\n",
       "      <td>2017</td>\n",
       "    </tr>\n",
       "    <tr>\n",
       "      <th>8158</th>\n",
       "      <td>193587</td>\n",
       "      <td>Bungo Stray Dogs: Dead Apple (2018)</td>\n",
       "      <td>Action|Animation</td>\n",
       "      <td>2018</td>\n",
       "    </tr>\n",
       "    <tr>\n",
       "      <th>8159</th>\n",
       "      <td>193609</td>\n",
       "      <td>Andrew Dice Clay: Dice Rules (1991)</td>\n",
       "      <td>Comedy</td>\n",
       "      <td>1991</td>\n",
       "    </tr>\n",
       "  </tbody>\n",
       "</table>\n",
       "<p>8160 rows × 4 columns</p>\n",
       "</div>"
      ],
      "text/plain": [
       "      movieId                                      title  \\\n",
       "0           1                           Toy Story (1995)   \n",
       "1           2                             Jumanji (1995)   \n",
       "2           3                    Grumpier Old Men (1995)   \n",
       "3           4                   Waiting to Exhale (1995)   \n",
       "4           5         Father of the Bride Part II (1995)   \n",
       "...       ...                                        ...   \n",
       "8155   193581  Black Butler: Book of the Atlantic (2017)   \n",
       "8156   193583               No Game No Life: Zero (2017)   \n",
       "8157   193585                               Flint (2017)   \n",
       "8158   193587        Bungo Stray Dogs: Dead Apple (2018)   \n",
       "8159   193609        Andrew Dice Clay: Dice Rules (1991)   \n",
       "\n",
       "                                           genres  year  \n",
       "0     Adventure|Animation|Children|Comedy|Fantasy  1995  \n",
       "1                      Adventure|Children|Fantasy  1995  \n",
       "2                                  Comedy|Romance  1995  \n",
       "3                            Comedy|Drama|Romance  1995  \n",
       "4                                          Comedy  1995  \n",
       "...                                           ...   ...  \n",
       "8155              Action|Animation|Comedy|Fantasy  2017  \n",
       "8156                     Animation|Comedy|Fantasy  2017  \n",
       "8157                                        Drama  2017  \n",
       "8158                             Action|Animation  2018  \n",
       "8159                                       Comedy  1991  \n",
       "\n",
       "[8160 rows x 4 columns]"
      ]
     },
     "metadata": {},
     "output_type": "display_data"
    }
   ],
   "source": [
    "df_movies = pd.read_csv('movies_dc.csv')\n",
    "\n",
    "df_movies.rename(columns={'movieId_':'movieId'}, inplace=True)\n",
    "df_movies.drop(columns='movie_description', inplace=True)\n",
    "df_movies['year'] = df_movies['title'].apply(lambda x: int(x[-5:-1]))\n",
    "\n",
    "display(df_movies)"
   ]
  },
  {
   "cell_type": "markdown",
   "metadata": {
    "id": "YR_Y67twyTuq"
   },
   "source": [
    "**Question 2 (5 points)**\n",
    "\n",
    "Show the top 3 years with the highest number of movies.\n"
   ]
  },
  {
   "cell_type": "code",
   "execution_count": 44,
   "metadata": {
    "id": "BxAuH1D50k00"
   },
   "outputs": [
    {
     "data": {
      "text/plain": [
       "year\n",
       "2002    311\n",
       "2006    295\n",
       "2001    294\n",
       "Name: movieId, dtype: int64"
      ]
     },
     "metadata": {},
     "output_type": "display_data"
    }
   ],
   "source": [
    "movies_year = df_movies.groupby('year')['movieId'].size()\n",
    "display(movies_year.nlargest(3))"
   ]
  },
  {
   "cell_type": "markdown",
   "metadata": {
    "id": "NbuLpsuiyi6a"
   },
   "source": [
    "**Question 3 (5 points)**\n",
    "\n",
    "Load the *ratings_dc.csv* as a pandas dataframe. Show the mean, max, and min values of the “rating” column.\n"
   ]
  },
  {
   "cell_type": "code",
   "execution_count": 45,
   "metadata": {
    "id": "Xloj2qFU0mgp"
   },
   "outputs": [
    {
     "name": "stdout",
     "output_type": "stream",
     "text": [
      "mean: 3.501556983616962\n",
      "max: 5.0\n",
      "min: 0.5\n"
     ]
    }
   ],
   "source": [
    "df_ratings = pd.read_csv('ratings_dc.csv')\n",
    "\n",
    "print('mean:', df_ratings['rating'].mean())\n",
    "print('max:', df_ratings['rating'].max())\n",
    "print('min:', df_ratings['rating'].min())"
   ]
  },
  {
   "cell_type": "markdown",
   "metadata": {
    "id": "C0RlwXRjyjLE"
   },
   "source": [
    "**Question 4 (10 points)**\n",
    "\n",
    "Use the rating dataframe to generate a dataframe that contains each movie’s average rating and number of ratings.\n",
    "\n",
    "Then, you need to inner join the movie table with table generated in the previous step to create a new dataframe, *movie_rating* , which has the following four column names:  MovieID, title, genres, year, avg_rating, num_rating. Each row presents information of one movie. \"avg_rating\" is the mean value of ratings of a movie; \"num_rating\" measures how many time a movie has been rated.\n",
    "\n"
   ]
  },
  {
   "cell_type": "code",
   "execution_count": 46,
   "metadata": {
    "id": "inommUdU17zu"
   },
   "outputs": [
    {
     "data": {
      "text/html": [
       "<div>\n",
       "<style scoped>\n",
       "    .dataframe tbody tr th:only-of-type {\n",
       "        vertical-align: middle;\n",
       "    }\n",
       "\n",
       "    .dataframe tbody tr th {\n",
       "        vertical-align: top;\n",
       "    }\n",
       "\n",
       "    .dataframe thead th {\n",
       "        text-align: right;\n",
       "    }\n",
       "</style>\n",
       "<table border=\"1\" class=\"dataframe\">\n",
       "  <thead>\n",
       "    <tr style=\"text-align: right;\">\n",
       "      <th></th>\n",
       "      <th>MovieId</th>\n",
       "      <th>title</th>\n",
       "      <th>genres</th>\n",
       "      <th>year</th>\n",
       "      <th>avg_rating</th>\n",
       "      <th>num_rating</th>\n",
       "    </tr>\n",
       "  </thead>\n",
       "  <tbody>\n",
       "    <tr>\n",
       "      <th>0</th>\n",
       "      <td>1</td>\n",
       "      <td>Toy Story (1995)</td>\n",
       "      <td>Adventure|Animation|Children|Comedy|Fantasy</td>\n",
       "      <td>1995</td>\n",
       "      <td>3.920930</td>\n",
       "      <td>215</td>\n",
       "    </tr>\n",
       "    <tr>\n",
       "      <th>1</th>\n",
       "      <td>2</td>\n",
       "      <td>Jumanji (1995)</td>\n",
       "      <td>Adventure|Children|Fantasy</td>\n",
       "      <td>1995</td>\n",
       "      <td>3.431818</td>\n",
       "      <td>110</td>\n",
       "    </tr>\n",
       "    <tr>\n",
       "      <th>2</th>\n",
       "      <td>3</td>\n",
       "      <td>Grumpier Old Men (1995)</td>\n",
       "      <td>Comedy|Romance</td>\n",
       "      <td>1995</td>\n",
       "      <td>3.259615</td>\n",
       "      <td>52</td>\n",
       "    </tr>\n",
       "    <tr>\n",
       "      <th>3</th>\n",
       "      <td>4</td>\n",
       "      <td>Waiting to Exhale (1995)</td>\n",
       "      <td>Comedy|Drama|Romance</td>\n",
       "      <td>1995</td>\n",
       "      <td>2.357143</td>\n",
       "      <td>7</td>\n",
       "    </tr>\n",
       "    <tr>\n",
       "      <th>4</th>\n",
       "      <td>5</td>\n",
       "      <td>Father of the Bride Part II (1995)</td>\n",
       "      <td>Comedy</td>\n",
       "      <td>1995</td>\n",
       "      <td>3.071429</td>\n",
       "      <td>49</td>\n",
       "    </tr>\n",
       "    <tr>\n",
       "      <th>...</th>\n",
       "      <td>...</td>\n",
       "      <td>...</td>\n",
       "      <td>...</td>\n",
       "      <td>...</td>\n",
       "      <td>...</td>\n",
       "      <td>...</td>\n",
       "    </tr>\n",
       "    <tr>\n",
       "      <th>8148</th>\n",
       "      <td>193581</td>\n",
       "      <td>Black Butler: Book of the Atlantic (2017)</td>\n",
       "      <td>Action|Animation|Comedy|Fantasy</td>\n",
       "      <td>2017</td>\n",
       "      <td>4.000000</td>\n",
       "      <td>1</td>\n",
       "    </tr>\n",
       "    <tr>\n",
       "      <th>8149</th>\n",
       "      <td>193583</td>\n",
       "      <td>No Game No Life: Zero (2017)</td>\n",
       "      <td>Animation|Comedy|Fantasy</td>\n",
       "      <td>2017</td>\n",
       "      <td>3.500000</td>\n",
       "      <td>1</td>\n",
       "    </tr>\n",
       "    <tr>\n",
       "      <th>8150</th>\n",
       "      <td>193585</td>\n",
       "      <td>Flint (2017)</td>\n",
       "      <td>Drama</td>\n",
       "      <td>2017</td>\n",
       "      <td>3.500000</td>\n",
       "      <td>1</td>\n",
       "    </tr>\n",
       "    <tr>\n",
       "      <th>8151</th>\n",
       "      <td>193587</td>\n",
       "      <td>Bungo Stray Dogs: Dead Apple (2018)</td>\n",
       "      <td>Action|Animation</td>\n",
       "      <td>2018</td>\n",
       "      <td>3.500000</td>\n",
       "      <td>1</td>\n",
       "    </tr>\n",
       "    <tr>\n",
       "      <th>8152</th>\n",
       "      <td>193609</td>\n",
       "      <td>Andrew Dice Clay: Dice Rules (1991)</td>\n",
       "      <td>Comedy</td>\n",
       "      <td>1991</td>\n",
       "      <td>4.000000</td>\n",
       "      <td>1</td>\n",
       "    </tr>\n",
       "  </tbody>\n",
       "</table>\n",
       "<p>8153 rows × 6 columns</p>\n",
       "</div>"
      ],
      "text/plain": [
       "      MovieId                                      title  \\\n",
       "0           1                           Toy Story (1995)   \n",
       "1           2                             Jumanji (1995)   \n",
       "2           3                    Grumpier Old Men (1995)   \n",
       "3           4                   Waiting to Exhale (1995)   \n",
       "4           5         Father of the Bride Part II (1995)   \n",
       "...       ...                                        ...   \n",
       "8148   193581  Black Butler: Book of the Atlantic (2017)   \n",
       "8149   193583               No Game No Life: Zero (2017)   \n",
       "8150   193585                               Flint (2017)   \n",
       "8151   193587        Bungo Stray Dogs: Dead Apple (2018)   \n",
       "8152   193609        Andrew Dice Clay: Dice Rules (1991)   \n",
       "\n",
       "                                           genres  year  avg_rating  \\\n",
       "0     Adventure|Animation|Children|Comedy|Fantasy  1995    3.920930   \n",
       "1                      Adventure|Children|Fantasy  1995    3.431818   \n",
       "2                                  Comedy|Romance  1995    3.259615   \n",
       "3                            Comedy|Drama|Romance  1995    2.357143   \n",
       "4                                          Comedy  1995    3.071429   \n",
       "...                                           ...   ...         ...   \n",
       "8148              Action|Animation|Comedy|Fantasy  2017    4.000000   \n",
       "8149                     Animation|Comedy|Fantasy  2017    3.500000   \n",
       "8150                                        Drama  2017    3.500000   \n",
       "8151                             Action|Animation  2018    3.500000   \n",
       "8152                                       Comedy  1991    4.000000   \n",
       "\n",
       "      num_rating  \n",
       "0            215  \n",
       "1            110  \n",
       "2             52  \n",
       "3              7  \n",
       "4             49  \n",
       "...          ...  \n",
       "8148           1  \n",
       "8149           1  \n",
       "8150           1  \n",
       "8151           1  \n",
       "8152           1  \n",
       "\n",
       "[8153 rows x 6 columns]"
      ]
     },
     "metadata": {},
     "output_type": "display_data"
    }
   ],
   "source": [
    "df_avg = df_ratings.groupby('movieId').size().rename('num_rating').to_frame()\n",
    "df_avg['avg_rating'] = df_ratings.groupby('movieId')['rating'].mean()\n",
    "\n",
    "movie_rating = df_avg.join(df_movies.set_index('movieId'), how='inner').reset_index()\n",
    "movie_rating.rename(columns={'movieId':'MovieId'}, inplace=True)\n",
    "movie_rating = movie_rating[['MovieId','title','genres','year','avg_rating','num_rating']]\n",
    "\n",
    "display(movie_rating)"
   ]
  },
  {
   "cell_type": "markdown",
   "metadata": {
    "id": "KA_yzQVqz09X"
   },
   "source": [
    "**Question 5 (5 points)**\n",
    "\n",
    "Show the number of movies with the average ratings 4.0.\n"
   ]
  },
  {
   "cell_type": "code",
   "execution_count": 47,
   "metadata": {
    "id": "Jil7WEjD19Js"
   },
   "outputs": [
    {
     "name": "stdout",
     "output_type": "stream",
     "text": [
      "Number of Movies above 4.0: 935\n"
     ]
    }
   ],
   "source": [
    "print('Number of Movies above 4.0:', movie_rating[movie_rating['avg_rating']>4]['MovieId'].count())"
   ]
  },
  {
   "cell_type": "markdown",
   "metadata": {
    "id": "JSSXHuQBz1NE"
   },
   "source": [
    "**Question 6 (5 points)**\n",
    "\n",
    "Show the titles of movies with Top 2 number of ratings (NOT average ratings)."
   ]
  },
  {
   "cell_type": "code",
   "execution_count": 48,
   "metadata": {},
   "outputs": [
    {
     "data": {
      "text/html": [
       "<div>\n",
       "<style scoped>\n",
       "    .dataframe tbody tr th:only-of-type {\n",
       "        vertical-align: middle;\n",
       "    }\n",
       "\n",
       "    .dataframe tbody tr th {\n",
       "        vertical-align: top;\n",
       "    }\n",
       "\n",
       "    .dataframe thead th {\n",
       "        text-align: right;\n",
       "    }\n",
       "</style>\n",
       "<table border=\"1\" class=\"dataframe\">\n",
       "  <thead>\n",
       "    <tr style=\"text-align: right;\">\n",
       "      <th></th>\n",
       "      <th>title</th>\n",
       "      <th>num_rating</th>\n",
       "    </tr>\n",
       "  </thead>\n",
       "  <tbody>\n",
       "    <tr>\n",
       "      <th>310</th>\n",
       "      <td>Forrest Gump (1994)</td>\n",
       "      <td>329</td>\n",
       "    </tr>\n",
       "    <tr>\n",
       "      <th>273</th>\n",
       "      <td>Shawshank Redemption, The (1994)</td>\n",
       "      <td>317</td>\n",
       "    </tr>\n",
       "  </tbody>\n",
       "</table>\n",
       "</div>"
      ],
      "text/plain": [
       "                                title  num_rating\n",
       "310               Forrest Gump (1994)         329\n",
       "273  Shawshank Redemption, The (1994)         317"
      ]
     },
     "metadata": {},
     "output_type": "display_data"
    }
   ],
   "source": [
    "display(movie_rating.nlargest(2, 'num_rating')[['title', 'num_rating']])"
   ]
  },
  {
   "cell_type": "markdown",
   "metadata": {
    "id": "ps1qvBP_z1bF"
   },
   "source": [
    "**Question 7 (10 points)**\n",
    "\n",
    "In the *movie_rating* dataframe, with movie release years ranging from 1980 to 2018, please add a new column called \"time_interval.\" Specifically, use year bins [1979, 1999, 2009, 2020] to categorize movies into three groups: \"before 2000\", \"2000-2009\", and \"since 2010\".\n",
    "\n",
    "After creating this new column, display the count of movies in each time interval.\n"
   ]
  },
  {
   "cell_type": "code",
   "execution_count": 51,
   "metadata": {
    "id": "e1BAtPmZ2AcR"
   },
   "outputs": [
    {
     "data": {
      "text/plain": [
       "time_interval\n",
       "before 2000    3381\n",
       "2000-2009      2846\n",
       "since 2010     1926\n",
       "Name: count, dtype: int64"
      ]
     },
     "metadata": {},
     "output_type": "display_data"
    }
   ],
   "source": [
    "movie_rating['time_interval'] = pd.cut(movie_rating['year'], bins=[1979,1999,2009,2020], labels=[\"before 2000\", \"2000-2009\",\"since 2010\"])\n",
    "display(movie_rating['time_interval'].value_counts())"
   ]
  },
  {
   "cell_type": "markdown",
   "metadata": {
    "id": "YoonClgy1Vz2"
   },
   "source": [
    "**Question 8 (challenging and extra 5 bonus points)**\n",
    "\n",
    "Now you need to implement a recommender system using collaborative filtering method. This works simply as to recommend movies that \"people who like this movie also like these movies\".\n",
    "\n",
    "For example, people who like to watch StarWars are very likely to watch Star Treks.\n",
    "In order to do so, you need to find out users who like one movie (i.e., post a rating of 5), and\n",
    "count what are the movies these users also like, ranked by the number of likes.\n",
    "\n",
    "**Task: Show the recommended movie list with top 10 movies that users who like the Forrest Gump (1994) may also like.**\n",
    "\n",
    "Congratulations! You just build the first recommender system that worth 1 million dollars :D\n"
   ]
  },
  {
   "cell_type": "code",
   "execution_count": 84,
   "metadata": {},
   "outputs": [
    {
     "data": {
      "text/html": [
       "<div>\n",
       "<style scoped>\n",
       "    .dataframe tbody tr th:only-of-type {\n",
       "        vertical-align: middle;\n",
       "    }\n",
       "\n",
       "    .dataframe tbody tr th {\n",
       "        vertical-align: top;\n",
       "    }\n",
       "\n",
       "    .dataframe thead th {\n",
       "        text-align: right;\n",
       "    }\n",
       "</style>\n",
       "<table border=\"1\" class=\"dataframe\">\n",
       "  <thead>\n",
       "    <tr style=\"text-align: right;\">\n",
       "      <th></th>\n",
       "      <th>Number of Likes</th>\n",
       "      <th>title</th>\n",
       "    </tr>\n",
       "  </thead>\n",
       "  <tbody>\n",
       "    <tr>\n",
       "      <th>318</th>\n",
       "      <td>48</td>\n",
       "      <td>Shawshank Redemption, The (1994)</td>\n",
       "    </tr>\n",
       "    <tr>\n",
       "      <th>110</th>\n",
       "      <td>38</td>\n",
       "      <td>Braveheart (1995)</td>\n",
       "    </tr>\n",
       "    <tr>\n",
       "      <th>593</th>\n",
       "      <td>34</td>\n",
       "      <td>Silence of the Lambs, The (1991)</td>\n",
       "    </tr>\n",
       "    <tr>\n",
       "      <th>296</th>\n",
       "      <td>34</td>\n",
       "      <td>Pulp Fiction (1994)</td>\n",
       "    </tr>\n",
       "    <tr>\n",
       "      <th>2571</th>\n",
       "      <td>31</td>\n",
       "      <td>Matrix, The (1999)</td>\n",
       "    </tr>\n",
       "    <tr>\n",
       "      <th>527</th>\n",
       "      <td>30</td>\n",
       "      <td>Schindler's List (1993)</td>\n",
       "    </tr>\n",
       "    <tr>\n",
       "      <th>2959</th>\n",
       "      <td>25</td>\n",
       "      <td>Fight Club (1999)</td>\n",
       "    </tr>\n",
       "    <tr>\n",
       "      <th>589</th>\n",
       "      <td>24</td>\n",
       "      <td>Terminator 2: Judgment Day (1991)</td>\n",
       "    </tr>\n",
       "    <tr>\n",
       "      <th>1196</th>\n",
       "      <td>23</td>\n",
       "      <td>Star Wars: Episode V - The Empire Strikes Back...</td>\n",
       "    </tr>\n",
       "    <tr>\n",
       "      <th>480</th>\n",
       "      <td>22</td>\n",
       "      <td>Jurassic Park (1993)</td>\n",
       "    </tr>\n",
       "  </tbody>\n",
       "</table>\n",
       "</div>"
      ],
      "text/plain": [
       "      Number of Likes                                              title\n",
       "318                48                   Shawshank Redemption, The (1994)\n",
       "110                38                                  Braveheart (1995)\n",
       "593                34                   Silence of the Lambs, The (1991)\n",
       "296                34                                Pulp Fiction (1994)\n",
       "2571               31                                 Matrix, The (1999)\n",
       "527                30                            Schindler's List (1993)\n",
       "2959               25                                  Fight Club (1999)\n",
       "589                24                  Terminator 2: Judgment Day (1991)\n",
       "1196               23  Star Wars: Episode V - The Empire Strikes Back...\n",
       "480                22                               Jurassic Park (1993)"
      ]
     },
     "metadata": {},
     "output_type": "display_data"
    }
   ],
   "source": [
    "forrest_id = movie_rating.loc[movie_rating['title']=='Forrest Gump (1994)', 'MovieId'].values[0]\n",
    "\n",
    "forrest_userId = df_ratings.loc[(df_ratings['movieId']==forrest_id) & (df_ratings['rating']==5),'userId'].unique()\n",
    "forrest_other_movies = df_ratings.loc[(df_ratings['userId'].isin(forrest_userId)) & (df_ratings['rating']==5) &(df_ratings['movieId']!=forrest_id)]\n",
    "\n",
    "recommended_movies = forrest_other_movies.groupby('movieId').size().rename('Number of Likes').to_frame().join(movie_rating[['MovieId','title']].set_index('MovieId'), how='inner')\n",
    "recommended_movies.sort_values('Number of Likes', ascending=False, inplace=True)\n",
    "\n",
    "display(recommended_movies.head(10))"
   ]
  }
 ],
 "metadata": {
  "colab": {
   "authorship_tag": "ABX9TyP+SB7MsvtVbVuGf/h58OfU",
   "provenance": [
    {
     "file_id": "1j-TWqPOkRF9XyTmDnwv-NhHlbdq7C5gB",
     "timestamp": 1697649860443
    },
    {
     "file_id": "1CZWtdbWzHIWrA_3tnfo4aku-tZ1AeZj3",
     "timestamp": 1697639125578
    }
   ]
  },
  "kernelspec": {
   "display_name": "Python 3",
   "language": "python",
   "name": "python3"
  },
  "language_info": {
   "codemirror_mode": {
    "name": "ipython",
    "version": 3
   },
   "file_extension": ".py",
   "mimetype": "text/x-python",
   "name": "python",
   "nbconvert_exporter": "python",
   "pygments_lexer": "ipython3",
   "version": "3.11.5"
  },
  "latex_envs": {
   "LaTeX_envs_menu_present": true,
   "autoclose": false,
   "autocomplete": true,
   "bibliofile": "biblio.bib",
   "cite_by": "apalike",
   "current_citInitial": 1,
   "eqLabelWithNumbers": true,
   "eqNumInitial": 1,
   "hotkeys": {
    "equation": "Ctrl-E",
    "itemize": "Ctrl-I"
   },
   "labels_anchors": false,
   "latex_user_defs": false,
   "report_style_numbering": false,
   "user_envs_cfg": false
  }
 },
 "nbformat": 4,
 "nbformat_minor": 1
}
